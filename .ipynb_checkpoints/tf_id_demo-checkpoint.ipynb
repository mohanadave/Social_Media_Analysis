{
 "cells": [
  {
   "cell_type": "code",
   "execution_count": 72,
   "metadata": {},
   "outputs": [],
   "source": [
    "import numpy as np\n",
    "import pandas as pd\n",
    "from sklearn.feature_extraction.text import CountVectorizer\n",
    "from sklearn.cross_validation import train_test_split\n",
    "from sklearn.naive_bayes import MultinomialNB\n",
    "from sklearn.feature_extraction.text import TfidfVectorizer"
   ]
  },
  {
   "cell_type": "code",
   "execution_count": 73,
   "metadata": {},
   "outputs": [],
   "source": [
    "df=pd.read_csv('agr_en_train.csv',sep=',',names=['id','comment','category'])"
   ]
  },
  {
   "cell_type": "code",
   "execution_count": 74,
   "metadata": {},
   "outputs": [
    {
     "data": {
      "text/html": [
       "<div>\n",
       "<style scoped>\n",
       "    .dataframe tbody tr th:only-of-type {\n",
       "        vertical-align: middle;\n",
       "    }\n",
       "\n",
       "    .dataframe tbody tr th {\n",
       "        vertical-align: top;\n",
       "    }\n",
       "\n",
       "    .dataframe thead th {\n",
       "        text-align: right;\n",
       "    }\n",
       "</style>\n",
       "<table border=\"1\" class=\"dataframe\">\n",
       "  <thead>\n",
       "    <tr style=\"text-align: right;\">\n",
       "      <th></th>\n",
       "      <th>id</th>\n",
       "      <th>comment</th>\n",
       "      <th>category</th>\n",
       "    </tr>\n",
       "  </thead>\n",
       "  <tbody>\n",
       "    <tr>\n",
       "      <th>0</th>\n",
       "      <td>facebook_corpus_msr_1723796</td>\n",
       "      <td>Well said sonu..you have courage to stand agai...</td>\n",
       "      <td>OAG</td>\n",
       "    </tr>\n",
       "    <tr>\n",
       "      <th>1</th>\n",
       "      <td>facebook_corpus_msr_466073</td>\n",
       "      <td>Most of Private Banks ATM's Like HDFC, ICICI e...</td>\n",
       "      <td>NAG</td>\n",
       "    </tr>\n",
       "    <tr>\n",
       "      <th>2</th>\n",
       "      <td>facebook_corpus_msr_1493901</td>\n",
       "      <td>Now question is, Pakistan will adhere to this?</td>\n",
       "      <td>OAG</td>\n",
       "    </tr>\n",
       "    <tr>\n",
       "      <th>3</th>\n",
       "      <td>facebook_corpus_msr_405512</td>\n",
       "      <td>Pakistan is comprised of fake muslims who does...</td>\n",
       "      <td>OAG</td>\n",
       "    </tr>\n",
       "    <tr>\n",
       "      <th>4</th>\n",
       "      <td>facebook_corpus_msr_1521685</td>\n",
       "      <td>??we r against cow slaughter,so of course it w...</td>\n",
       "      <td>NAG</td>\n",
       "    </tr>\n",
       "  </tbody>\n",
       "</table>\n",
       "</div>"
      ],
      "text/plain": [
       "                            id  \\\n",
       "0  facebook_corpus_msr_1723796   \n",
       "1   facebook_corpus_msr_466073   \n",
       "2  facebook_corpus_msr_1493901   \n",
       "3   facebook_corpus_msr_405512   \n",
       "4  facebook_corpus_msr_1521685   \n",
       "\n",
       "                                             comment category  \n",
       "0  Well said sonu..you have courage to stand agai...      OAG  \n",
       "1  Most of Private Banks ATM's Like HDFC, ICICI e...      NAG  \n",
       "2     Now question is, Pakistan will adhere to this?      OAG  \n",
       "3  Pakistan is comprised of fake muslims who does...      OAG  \n",
       "4  ??we r against cow slaughter,so of course it w...      NAG  "
      ]
     },
     "execution_count": 74,
     "metadata": {},
     "output_type": "execute_result"
    }
   ],
   "source": [
    "df.head()"
   ]
  },
  {
   "cell_type": "code",
   "execution_count": 75,
   "metadata": {},
   "outputs": [
    {
     "data": {
      "text/plain": [
       "11999"
      ]
     },
     "execution_count": 75,
     "metadata": {},
     "output_type": "execute_result"
    }
   ],
   "source": [
    "len(df)"
   ]
  },
  {
   "cell_type": "code",
   "execution_count": 76,
   "metadata": {},
   "outputs": [
    {
     "data": {
      "text/plain": [
       "5051"
      ]
     },
     "execution_count": 76,
     "metadata": {},
     "output_type": "execute_result"
    }
   ],
   "source": [
    "len(df[df.category=='NAG'])"
   ]
  },
  {
   "cell_type": "code",
   "execution_count": 77,
   "metadata": {},
   "outputs": [
    {
     "data": {
      "text/plain": [
       "4240"
      ]
     },
     "execution_count": 77,
     "metadata": {},
     "output_type": "execute_result"
    }
   ],
   "source": [
    "len(df[df.category=='CAG'])"
   ]
  },
  {
   "cell_type": "code",
   "execution_count": 78,
   "metadata": {},
   "outputs": [
    {
     "data": {
      "text/plain": [
       "2708"
      ]
     },
     "execution_count": 78,
     "metadata": {},
     "output_type": "execute_result"
    }
   ],
   "source": [
    "len(df[df.category=='OAG'])"
   ]
  },
  {
   "cell_type": "code",
   "execution_count": 79,
   "metadata": {},
   "outputs": [],
   "source": [
    "df.loc[df[\"category\"]=='NAG',\"category\",]=0\n",
    "df.loc[df[\"category\"]=='CAG',\"category\",]=1\n",
    "df.loc[df[\"category\"]=='OAG',\"category\",]=2"
   ]
  },
  {
   "cell_type": "code",
   "execution_count": 80,
   "metadata": {},
   "outputs": [
    {
     "data": {
      "text/html": [
       "<div>\n",
       "<style scoped>\n",
       "    .dataframe tbody tr th:only-of-type {\n",
       "        vertical-align: middle;\n",
       "    }\n",
       "\n",
       "    .dataframe tbody tr th {\n",
       "        vertical-align: top;\n",
       "    }\n",
       "\n",
       "    .dataframe thead th {\n",
       "        text-align: right;\n",
       "    }\n",
       "</style>\n",
       "<table border=\"1\" class=\"dataframe\">\n",
       "  <thead>\n",
       "    <tr style=\"text-align: right;\">\n",
       "      <th></th>\n",
       "      <th>id</th>\n",
       "      <th>comment</th>\n",
       "      <th>category</th>\n",
       "    </tr>\n",
       "  </thead>\n",
       "  <tbody>\n",
       "    <tr>\n",
       "      <th>0</th>\n",
       "      <td>facebook_corpus_msr_1723796</td>\n",
       "      <td>Well said sonu..you have courage to stand agai...</td>\n",
       "      <td>2</td>\n",
       "    </tr>\n",
       "    <tr>\n",
       "      <th>1</th>\n",
       "      <td>facebook_corpus_msr_466073</td>\n",
       "      <td>Most of Private Banks ATM's Like HDFC, ICICI e...</td>\n",
       "      <td>0</td>\n",
       "    </tr>\n",
       "    <tr>\n",
       "      <th>2</th>\n",
       "      <td>facebook_corpus_msr_1493901</td>\n",
       "      <td>Now question is, Pakistan will adhere to this?</td>\n",
       "      <td>2</td>\n",
       "    </tr>\n",
       "    <tr>\n",
       "      <th>3</th>\n",
       "      <td>facebook_corpus_msr_405512</td>\n",
       "      <td>Pakistan is comprised of fake muslims who does...</td>\n",
       "      <td>2</td>\n",
       "    </tr>\n",
       "    <tr>\n",
       "      <th>4</th>\n",
       "      <td>facebook_corpus_msr_1521685</td>\n",
       "      <td>??we r against cow slaughter,so of course it w...</td>\n",
       "      <td>0</td>\n",
       "    </tr>\n",
       "  </tbody>\n",
       "</table>\n",
       "</div>"
      ],
      "text/plain": [
       "                            id  \\\n",
       "0  facebook_corpus_msr_1723796   \n",
       "1   facebook_corpus_msr_466073   \n",
       "2  facebook_corpus_msr_1493901   \n",
       "3   facebook_corpus_msr_405512   \n",
       "4  facebook_corpus_msr_1521685   \n",
       "\n",
       "                                             comment category  \n",
       "0  Well said sonu..you have courage to stand agai...        2  \n",
       "1  Most of Private Banks ATM's Like HDFC, ICICI e...        0  \n",
       "2     Now question is, Pakistan will adhere to this?        2  \n",
       "3  Pakistan is comprised of fake muslims who does...        2  \n",
       "4  ??we r against cow slaughter,so of course it w...        0  "
      ]
     },
     "execution_count": 80,
     "metadata": {},
     "output_type": "execute_result"
    }
   ],
   "source": [
    "df.head()"
   ]
  },
  {
   "cell_type": "code",
   "execution_count": 81,
   "metadata": {},
   "outputs": [
    {
     "data": {
      "text/plain": [
       "5051"
      ]
     },
     "execution_count": 81,
     "metadata": {},
     "output_type": "execute_result"
    }
   ],
   "source": [
    "len(df[df.category==0])"
   ]
  },
  {
   "cell_type": "code",
   "execution_count": 82,
   "metadata": {},
   "outputs": [],
   "source": [
    "df_x=df['comment']\n",
    "df_y=df['category']"
   ]
  },
  {
   "cell_type": "code",
   "execution_count": 83,
   "metadata": {},
   "outputs": [
    {
     "data": {
      "text/plain": [
       "0        Well said sonu..you have courage to stand agai...\n",
       "1        Most of Private Banks ATM's Like HDFC, ICICI e...\n",
       "2           Now question is, Pakistan will adhere to this?\n",
       "3        Pakistan is comprised of fake muslims who does...\n",
       "4        ??we r against cow slaughter,so of course it w...\n",
       "5        Wondering why Educated Ambassador is strugglin...\n",
       "6        How does inflation react to all the after shoc...\n",
       "7        Not good job.....this guis creating a problem ...\n",
       "8        This is a false news Indian media is simply mi...\n",
       "9        no permanent foes, no permanent friends. inter...\n",
       "10       Deepak Kumar Sharma Saab...chalo aap ki Ye baa...\n",
       "11       Communist parties killed lacks of opponents in...\n",
       "12       Why you guys counter the modi govt decisions, ...\n",
       "13                Rss is 3 time ban terrorist organization\n",
       "14       No\\r\\nSame acting ll be there ..\\r\\nbut we ll ...\n",
       "15       Happy Diwali.!!let's wish the next one year he...\n",
       "16       Lolz... He said he is gonna employ large numbe...\n",
       "17                                 So funny stupid,,,,,,,,\n",
       "18       absolutely! the deeper you dive the shallower ...\n",
       "19       Brown Sahib , anti national leftist commies , ...\n",
       "20       Now nifty above 20 day moving average, what ne...\n",
       "21       Good to see when their in no terrror in pak an...\n",
       "22       First of all,there is no gaurakshak in assam.t...\n",
       "23                       AAP dont need the monsters like u\n",
       "24       For tht those hv more thn 2 flats or 2 land is...\n",
       "25       Once upon a time Bengal/ Kolkata was most pros...\n",
       "26       Oh Pak army or should say porki hijada army wh...\n",
       "27       He would be a lone boss with all the supporter...\n",
       "28       We want to get rid of u Indians......why don't...\n",
       "29       Only 13 % of jio customers converted into prim...\n",
       "                               ...                        \n",
       "11969    It is a good gesture for rewarding to the indi...\n",
       "11970    Working on amending AAI Act to monetise AAI's ...\n",
       "11971                                Well said Sonu nigam.\n",
       "11972    Sarkar fail conges fail bjp fail. Kaha he 1sir...\n",
       "11973    Bomb all the porky Army camps in the border......\n",
       "11974    how safe is your food ? ....read the article a...\n",
       "11975    sc st bc mbc Muslims expect this best solution...\n",
       "11976    Dominar, LOL come-on bajaj at least think of a...\n",
       "11977    Just dial rallied in the end ..Reason fr so rally\n",
       "11978    Rishabh could this headline be any more mislea...\n",
       "11979    सरकार सिर्फ सत्ता के लिए जुमलेबाजी करती है एक ...\n",
       "11980    we don't fear anyone we are not slave of any m...\n",
       "11981    Abrar whether you people live in density or al...\n",
       "11982    let me come clean.. This is the first time I a...\n",
       "11983    DEMONETISATION ==> CONSTITUTIONAL BENCH ✔\\r\\n\\...\n",
       "11984                   What is your further view on ₹vs $\n",
       "11985    The biggest explosion of 2017. The big bang ha...\n",
       "11986    Indian express did it again ...have some moral...\n",
       "11987    Our govt.will not do anything only statement ,...\n",
       "11988    Not muslim majority, terrorist majority countries\n",
       "11989    Have u ever applied any visa here? I hv been h...\n",
       "11990                    Ha ha ha same as Bihar exit polls\n",
       "11991    Well....one less educated person in Parliament...\n",
       "11992    Akshay Kumar also posted a video of his daught...\n",
       "11993                       It's written by me brah... 😂😂😂\n",
       "11994    They belong to you flight dirty terrorist coun...\n",
       "11995    Really motivating programme, congratulations t...\n",
       "11996                                      fabricated news\n",
       "11997                 What's wrong with you secular idiots\n",
       "11998    Looks like inevitable after all political hard...\n",
       "Name: comment, Length: 11999, dtype: object"
      ]
     },
     "execution_count": 83,
     "metadata": {},
     "output_type": "execute_result"
    }
   ],
   "source": [
    "df_x"
   ]
  },
  {
   "cell_type": "code",
   "execution_count": 84,
   "metadata": {},
   "outputs": [],
   "source": [
    "cv = TfidfVectorizer(min_df=1,stop_words='english')"
   ]
  },
  {
   "cell_type": "code",
   "execution_count": 85,
   "metadata": {},
   "outputs": [],
   "source": [
    "x_train, x_test, y_train, y_test = train_test_split(df_x, df_y, test_size=0.2, random_state=4)"
   ]
  },
  {
   "cell_type": "code",
   "execution_count": 86,
   "metadata": {},
   "outputs": [],
   "source": [
    "x_traincv = cv.fit([\"Hi How are you buddy I am good you are badHow are you doing\",\"Hi what's up\",\"Wow that's awesome\"])"
   ]
  },
  {
   "cell_type": "code",
   "execution_count": 87,
   "metadata": {},
   "outputs": [
    {
     "data": {
      "text/plain": [
       "array([[0.        , 0.46735098, 0.46735098, 0.46735098, 0.46735098,\n",
       "        0.35543247, 0.        ],\n",
       "       [0.        , 0.        , 0.        , 0.        , 0.        ,\n",
       "        1.        , 0.        ],\n",
       "       [0.70710678, 0.        , 0.        , 0.        , 0.        ,\n",
       "        0.        , 0.70710678]])"
      ]
     },
     "execution_count": 87,
     "metadata": {},
     "output_type": "execute_result"
    }
   ],
   "source": [
    "x_traincv.transform([\"Hi How are you buddy I am good you are badHow are you doing\",\"Hi what's up\",\"Wow that's awesome\"]).toarray()"
   ]
  },
  {
   "cell_type": "code",
   "execution_count": 88,
   "metadata": {},
   "outputs": [
    {
     "data": {
      "text/plain": [
       "['awesome', 'badhow', 'buddy', 'doing', 'good', 'hi', 'wow']"
      ]
     },
     "execution_count": 88,
     "metadata": {},
     "output_type": "execute_result"
    }
   ],
   "source": [
    "cv.get_feature_names()"
   ]
  },
  {
   "cell_type": "code",
   "execution_count": null,
   "metadata": {},
   "outputs": [],
   "source": []
  },
  {
   "cell_type": "code",
   "execution_count": 89,
   "metadata": {},
   "outputs": [],
   "source": [
    "cv1 = TfidfVectorizer(min_df=1,stop_words='english')\n"
   ]
  },
  {
   "cell_type": "code",
   "execution_count": 90,
   "metadata": {},
   "outputs": [],
   "source": [
    "x_traincv=cv1.fit_transform(x_train)"
   ]
  },
  {
   "cell_type": "code",
   "execution_count": null,
   "metadata": {},
   "outputs": [],
   "source": []
  },
  {
   "cell_type": "code",
   "execution_count": 91,
   "metadata": {},
   "outputs": [],
   "source": [
    "a=x_traincv.toarray()"
   ]
  },
  {
   "cell_type": "code",
   "execution_count": 92,
   "metadata": {},
   "outputs": [
    {
     "data": {
      "text/plain": [
       "array([0., 0., 0., ..., 0., 0., 0.])"
      ]
     },
     "execution_count": 92,
     "metadata": {},
     "output_type": "execute_result"
    }
   ],
   "source": [
    "a[0]\n"
   ]
  },
  {
   "cell_type": "code",
   "execution_count": 93,
   "metadata": {},
   "outputs": [
    {
     "data": {
      "text/plain": [
       "array([[0., 0., 0., ..., 0., 0., 0.],\n",
       "       [0., 0., 0., ..., 0., 0., 0.],\n",
       "       [0., 0., 0., ..., 0., 0., 0.],\n",
       "       ...,\n",
       "       [0., 0., 0., ..., 0., 0., 0.],\n",
       "       [0., 0., 0., ..., 0., 0., 0.],\n",
       "       [0., 0., 0., ..., 0., 0., 0.]])"
      ]
     },
     "execution_count": 93,
     "metadata": {},
     "output_type": "execute_result"
    }
   ],
   "source": [
    "a"
   ]
  },
  {
   "cell_type": "code",
   "execution_count": 94,
   "metadata": {},
   "outputs": [
    {
     "data": {
      "text/plain": [
       "[array(['ago', 'best', 'day', 'favorite', 'great', 'interested', 'job',\n",
       "        'long', 'nice', 'requirements', 'send', 'status'], dtype='<U127')]"
      ]
     },
     "execution_count": 94,
     "metadata": {},
     "output_type": "execute_result"
    }
   ],
   "source": [
    "cv1.inverse_transform(a[0])"
   ]
  },
  {
   "cell_type": "code",
   "execution_count": 95,
   "metadata": {},
   "outputs": [
    {
     "name": "stdout",
     "output_type": "stream",
     "text": [
      "0.28115400795088585\n",
      "0.19774482778943026\n",
      "0.37825200202430725\n",
      "0.36602089256979065\n",
      "0.18834171855955642\n",
      "0.26846567511676306\n",
      "0.2130361327375508\n",
      "0.4000800653355819\n",
      "0.2303889118131365\n",
      "0.33924837127029916\n",
      "0.23215828607233335\n",
      "0.2640884018242798\n"
     ]
    }
   ],
   "source": [
    "for x in a[0]:\n",
    "    if x>0:\n",
    "        print(x)"
   ]
  },
  {
   "cell_type": "code",
   "execution_count": 96,
   "metadata": {},
   "outputs": [
    {
     "data": {
      "text/plain": [
       "'Nice job in a while ago but never the best of my favorite part is a very long day at a very long day for you are interested please send us your requirements with you to see the status is a great'"
      ]
     },
     "execution_count": 96,
     "metadata": {},
     "output_type": "execute_result"
    }
   ],
   "source": [
    "x_train.iloc[0]"
   ]
  },
  {
   "cell_type": "code",
   "execution_count": 97,
   "metadata": {},
   "outputs": [],
   "source": [
    "mnb=MultinomialNB()"
   ]
  },
  {
   "cell_type": "code",
   "execution_count": 98,
   "metadata": {},
   "outputs": [],
   "source": [
    "y_train=y_train.astype('int')"
   ]
  },
  {
   "cell_type": "code",
   "execution_count": 99,
   "metadata": {},
   "outputs": [
    {
     "data": {
      "text/plain": [
       "MultinomialNB(alpha=1.0, class_prior=None, fit_prior=True)"
      ]
     },
     "execution_count": 99,
     "metadata": {},
     "output_type": "execute_result"
    }
   ],
   "source": [
    "mnb.fit(x_traincv,y_train)"
   ]
  },
  {
   "cell_type": "code",
   "execution_count": 100,
   "metadata": {},
   "outputs": [],
   "source": [
    "x_testcv=cv1.transform(x_test)"
   ]
  },
  {
   "cell_type": "code",
   "execution_count": 101,
   "metadata": {},
   "outputs": [
    {
     "name": "stdout",
     "output_type": "stream",
     "text": [
      "4375           Is  this  English  version  of  desabhimani\n",
      "7611     Thank you Anna for not joining AAP, Otherwise ...\n",
      "8562     I don't understand you Muslim people don't liv...\n",
      "9576     the idiot addresses his party leaders and give...\n",
      "2752     Mr. KRK is not capable to understand the film ...\n",
      "770      Well i can now see clearly bjp losing 2019 no ...\n",
      "526      All benifits gone to pakistan . Leather produc...\n",
      "6011                                               Cheater\n",
      "2072     This ridiculous act.....it's illiterates peopl...\n",
      "7855     The increase is a trap . Markets will fall big...\n",
      "2916     Pakistan a rogue state because today Pakistani...\n",
      "4275     Lakti Ningthou... Better is you to write the s...\n",
      "2741     I mean look at that dress....it's like sweepin...\n",
      "956      Change is inevitable. He has delivered his rol...\n",
      "11905         No wonder most ISIS caders were from Kerala.\n",
      "5778     Unfortunately all Kashmiri talent like shah Fa...\n",
      "10063    Again he is lying, when Gurmehar already clari...\n",
      "8282     modi Hai to ek politician ye sabit hua.desh bh...\n",
      "3798     I am gonna wait for 3 days 4 our PM to react\\r...\n",
      "5105     I am from pak waziristan .,..... jey lalita is...\n",
      "2141     They better protest, oh wait that just happens...\n",
      "5435     when they pelt stones on army wa will u call t...\n",
      "3050     Europe , UK , USA , China have already banned ...\n",
      "7110     AK is the only politician who admits mistakes ...\n",
      "9538     It will seriously affect common man and not we...\n",
      "10749    Commi is against democracy , it's as simple as...\n",
      "4029     http://indianexpress.com/article/india/fatwa-i...\n",
      "530      RTI rights in Political Parties will curb out ...\n",
      "8441     if india gets medals as equal to america or ot...\n",
      "5661     But How Much she spend  for his diet ? Such a ...\n",
      "                               ...                        \n",
      "5444     At least try to respect serving president. If ...\n",
      "11149                                                Hello\n",
      "775      What an intelligently written and unbiased, ob...\n",
      "2159     Stop giving statemens against Pakistan, Do it ...\n",
      "11500    Fii will sell if there are uncertainty, sellin...\n",
      "1314     Mira.. Please don't even think of bringing a d...\n",
      "5869                                                I hope\n",
      "9851     Sir please just don't copy paste without evalu...\n",
      "5451     Earlier jennifer was also his everything.... a...\n",
      "661       this is why you don't let kids talk to the media\n",
      "9225                                         Right you are\n",
      "4416     he makes more money in 1 hour than you make in...\n",
      "9747     Hence they have written off bad loans. Kya baa...\n",
      "10285    Hindu majority,,,,okkk  does that makes anyone...\n",
      "10140    Ratan Sir.....thank you so much....we are over...\n",
      "2861     Indian coward army deserves it because this ar...\n",
      "2484     great decision...will send a signal to all pow...\n",
      "8298                      Indian express you are too funny\n",
      "4924     Lol... they won because of money... #uneducate...\n",
      "1301     Sultan ji, I m from Assam, India. Here at our ...\n",
      "7816     When did eating beef become a cultural festiva...\n",
      "2417     BJP is only interested in cow protection. Mean...\n",
      "792      Stop Discussing, Stop comments on Soldiers cut...\n",
      "1999                          Dr. CHAIWALA will be your CM\n",
      "1409                             Hazare is a stooge of RSS\n",
      "3639     Only difference is salary addiction is out of ...\n",
      "10630    Lalu ji Namo Namo is ours People's Pm nd u r  ...\n",
      "5650     Seriously Anna Hazare should introspect before...\n",
      "2092     INDIAN EXPRESS , PL SAID THE POSITION OF YOUR ...\n",
      "10259    I want to send some bangles to all BJP leaders...\n",
      "Name: comment, Length: 2400, dtype: object\n"
     ]
    }
   ],
   "source": [
    "print(x_test)"
   ]
  },
  {
   "cell_type": "code",
   "execution_count": 102,
   "metadata": {},
   "outputs": [],
   "source": [
    "# ar=cv1.transform()"
   ]
  },
  {
   "cell_type": "code",
   "execution_count": 103,
   "metadata": {},
   "outputs": [],
   "source": [
    "ar=np.array('Hello how are you? Guess you are fine!')"
   ]
  },
  {
   "cell_type": "code",
   "execution_count": 104,
   "metadata": {},
   "outputs": [
    {
     "ename": "TypeError",
     "evalue": "Cannot cast array data from dtype('float64') to dtype('<U32') according to the rule 'safe'",
     "output_type": "error",
     "traceback": [
      "\u001b[0;31m---------------------------------------------------------------------------\u001b[0m",
      "\u001b[0;31mTypeError\u001b[0m                                 Traceback (most recent call last)",
      "\u001b[0;32m<ipython-input-104-66a50b66d672>\u001b[0m in \u001b[0;36m<module>\u001b[0;34m()\u001b[0m\n\u001b[0;32m----> 1\u001b[0;31m \u001b[0mpred\u001b[0m\u001b[0;34m=\u001b[0m\u001b[0mmnb\u001b[0m\u001b[0;34m.\u001b[0m\u001b[0mpredict\u001b[0m\u001b[0;34m(\u001b[0m\u001b[0mar\u001b[0m\u001b[0;34m)\u001b[0m\u001b[0;34m\u001b[0m\u001b[0m\n\u001b[0m",
      "\u001b[0;32m/anaconda3/lib/python3.6/site-packages/sklearn/naive_bayes.py\u001b[0m in \u001b[0;36mpredict\u001b[0;34m(self, X)\u001b[0m\n\u001b[1;32m     64\u001b[0m             \u001b[0mPredicted\u001b[0m \u001b[0mtarget\u001b[0m \u001b[0mvalues\u001b[0m \u001b[0;32mfor\u001b[0m \u001b[0mX\u001b[0m\u001b[0;34m\u001b[0m\u001b[0m\n\u001b[1;32m     65\u001b[0m         \"\"\"\n\u001b[0;32m---> 66\u001b[0;31m         \u001b[0mjll\u001b[0m \u001b[0;34m=\u001b[0m \u001b[0mself\u001b[0m\u001b[0;34m.\u001b[0m\u001b[0m_joint_log_likelihood\u001b[0m\u001b[0;34m(\u001b[0m\u001b[0mX\u001b[0m\u001b[0;34m)\u001b[0m\u001b[0;34m\u001b[0m\u001b[0m\n\u001b[0m\u001b[1;32m     67\u001b[0m         \u001b[0;32mreturn\u001b[0m \u001b[0mself\u001b[0m\u001b[0;34m.\u001b[0m\u001b[0mclasses_\u001b[0m\u001b[0;34m[\u001b[0m\u001b[0mnp\u001b[0m\u001b[0;34m.\u001b[0m\u001b[0margmax\u001b[0m\u001b[0;34m(\u001b[0m\u001b[0mjll\u001b[0m\u001b[0;34m,\u001b[0m \u001b[0maxis\u001b[0m\u001b[0;34m=\u001b[0m\u001b[0;36m1\u001b[0m\u001b[0;34m)\u001b[0m\u001b[0;34m]\u001b[0m\u001b[0;34m\u001b[0m\u001b[0m\n\u001b[1;32m     68\u001b[0m \u001b[0;34m\u001b[0m\u001b[0m\n",
      "\u001b[0;32m/anaconda3/lib/python3.6/site-packages/sklearn/naive_bayes.py\u001b[0m in \u001b[0;36m_joint_log_likelihood\u001b[0;34m(self, X)\u001b[0m\n\u001b[1;32m    723\u001b[0m \u001b[0;34m\u001b[0m\u001b[0m\n\u001b[1;32m    724\u001b[0m         \u001b[0mX\u001b[0m \u001b[0;34m=\u001b[0m \u001b[0mcheck_array\u001b[0m\u001b[0;34m(\u001b[0m\u001b[0mX\u001b[0m\u001b[0;34m,\u001b[0m \u001b[0maccept_sparse\u001b[0m\u001b[0;34m=\u001b[0m\u001b[0;34m'csr'\u001b[0m\u001b[0;34m)\u001b[0m\u001b[0;34m\u001b[0m\u001b[0m\n\u001b[0;32m--> 725\u001b[0;31m         return (safe_sparse_dot(X, self.feature_log_prob_.T) +\n\u001b[0m\u001b[1;32m    726\u001b[0m                 self.class_log_prior_)\n\u001b[1;32m    727\u001b[0m \u001b[0;34m\u001b[0m\u001b[0m\n",
      "\u001b[0;32m/anaconda3/lib/python3.6/site-packages/sklearn/utils/extmath.py\u001b[0m in \u001b[0;36msafe_sparse_dot\u001b[0;34m(a, b, dense_output)\u001b[0m\n\u001b[1;32m    138\u001b[0m         \u001b[0;32mreturn\u001b[0m \u001b[0mret\u001b[0m\u001b[0;34m\u001b[0m\u001b[0m\n\u001b[1;32m    139\u001b[0m     \u001b[0;32melse\u001b[0m\u001b[0;34m:\u001b[0m\u001b[0;34m\u001b[0m\u001b[0m\n\u001b[0;32m--> 140\u001b[0;31m         \u001b[0;32mreturn\u001b[0m \u001b[0mnp\u001b[0m\u001b[0;34m.\u001b[0m\u001b[0mdot\u001b[0m\u001b[0;34m(\u001b[0m\u001b[0ma\u001b[0m\u001b[0;34m,\u001b[0m \u001b[0mb\u001b[0m\u001b[0;34m)\u001b[0m\u001b[0;34m\u001b[0m\u001b[0m\n\u001b[0m\u001b[1;32m    141\u001b[0m \u001b[0;34m\u001b[0m\u001b[0m\n\u001b[1;32m    142\u001b[0m \u001b[0;34m\u001b[0m\u001b[0m\n",
      "\u001b[0;31mTypeError\u001b[0m: Cannot cast array data from dtype('float64') to dtype('<U32') according to the rule 'safe'"
     ]
    }
   ],
   "source": [
    "pred=mnb.predict(ar)"
   ]
  },
  {
   "cell_type": "code",
   "execution_count": null,
   "metadata": {},
   "outputs": [],
   "source": []
  },
  {
   "cell_type": "code",
   "execution_count": null,
   "metadata": {},
   "outputs": [],
   "source": [
    "pred"
   ]
  },
  {
   "cell_type": "code",
   "execution_count": null,
   "metadata": {},
   "outputs": [],
   "source": [
    "actual=np.array(y_test)"
   ]
  },
  {
   "cell_type": "code",
   "execution_count": null,
   "metadata": {},
   "outputs": [],
   "source": [
    "pre\n"
   ]
  },
  {
   "cell_type": "code",
   "execution_count": null,
   "metadata": {},
   "outputs": [],
   "source": [
    "for i in range(len(pred)):"
   ]
  },
  {
   "cell_type": "code",
   "execution_count": null,
   "metadata": {},
   "outputs": [],
   "source": [
    "count=0"
   ]
  },
  {
   "cell_type": "code",
   "execution_count": null,
   "metadata": {},
   "outputs": [],
   "source": [
    "for i in range(len(pred)):\n",
    "    if pred[i]==actual[i]:\n",
    "        count=count+1"
   ]
  },
  {
   "cell_type": "code",
   "execution_count": null,
   "metadata": {},
   "outputs": [],
   "source": [
    "count"
   ]
  },
  {
   "cell_type": "code",
   "execution_count": null,
   "metadata": {},
   "outputs": [],
   "source": [
    "count/len(pred)\n"
   ]
  },
  {
   "cell_type": "code",
   "execution_count": null,
   "metadata": {},
   "outputs": [],
   "source": [
    "x_test.iloc[0]"
   ]
  },
  {
   "cell_type": "code",
   "execution_count": null,
   "metadata": {},
   "outputs": [],
   "source": []
  },
  {
   "cell_type": "code",
   "execution_count": null,
   "metadata": {},
   "outputs": [],
   "source": []
  },
  {
   "cell_type": "code",
   "execution_count": null,
   "metadata": {},
   "outputs": [],
   "source": []
  }
 ],
 "metadata": {
  "kernelspec": {
   "display_name": "Python 3",
   "language": "python",
   "name": "python3"
  },
  "language_info": {
   "codemirror_mode": {
    "name": "ipython",
    "version": 3
   },
   "file_extension": ".py",
   "mimetype": "text/x-python",
   "name": "python",
   "nbconvert_exporter": "python",
   "pygments_lexer": "ipython3",
   "version": "3.7.1"
  }
 },
 "nbformat": 4,
 "nbformat_minor": 2
}
